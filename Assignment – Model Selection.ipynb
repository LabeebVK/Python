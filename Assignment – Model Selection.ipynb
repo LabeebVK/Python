{
 "cells": [
  {
   "cell_type": "code",
   "execution_count": 22,
   "id": "181d39a5",
   "metadata": {},
   "outputs": [],
   "source": [
    "import pandas as pd\n",
    "from sklearn.model_selection import cross_val_score, StratifiedKFold\n",
    "from sklearn.neighbors import KNeighborsClassifier\n",
    "from sklearn.svm import SVC\n",
    "from sklearn.preprocessing import LabelEncoder, StandardScaler\n",
    "from sklearn.pipeline import make_pipeline"
   ]
  },
  {
   "cell_type": "code",
   "execution_count": 14,
   "id": "4c9eb838",
   "metadata": {},
   "outputs": [],
   "source": [
    "url = 'https://raw.githubusercontent.com/LabeebVK/Python_ICTAK/main/titanic_dataset%20.csv'\n",
    "df = pd.read_csv(url)"
   ]
  },
  {
   "cell_type": "code",
   "execution_count": 15,
   "id": "0288b0c0",
   "metadata": {},
   "outputs": [],
   "source": [
    "df = df.drop(['PassengerId', 'Name', 'Ticket', 'Cabin'], axis=1)"
   ]
  },
  {
   "cell_type": "code",
   "execution_count": 16,
   "id": "5114f490",
   "metadata": {},
   "outputs": [],
   "source": [
    "df['Age'].fillna(df['Age'].mean(), inplace=True)\n",
    "df['Embarked'].fillna(df['Embarked'].mode()[0], inplace=True)\n"
   ]
  },
  {
   "cell_type": "code",
   "execution_count": 17,
   "id": "36ef9181",
   "metadata": {},
   "outputs": [],
   "source": [
    "label_encoder = LabelEncoder()\n",
    "df['Sex'] = label_encoder.fit_transform(df['Sex'])\n",
    "df['Embarked'] = label_encoder.fit_transform(df['Embarked'])\n"
   ]
  },
  {
   "cell_type": "code",
   "execution_count": 23,
   "id": "c2be13c7",
   "metadata": {},
   "outputs": [],
   "source": [
    "X = df.drop('Survived', axis=1)\n",
    "y = df['Survived']"
   ]
  },
  {
   "cell_type": "code",
   "execution_count": 24,
   "id": "85455bda",
   "metadata": {},
   "outputs": [],
   "source": [
    "knn_model = make_pipeline(StandardScaler(), KNeighborsClassifier())\n",
    "svm_model = make_pipeline(StandardScaler(), SVC())"
   ]
  },
  {
   "cell_type": "code",
   "execution_count": 25,
   "id": "2389fc5d",
   "metadata": {},
   "outputs": [],
   "source": [
    "k_fold_scores = cross_val_score(knn_model, X, y, cv=5)\n",
    "stratified_k_fold = StratifiedKFold(n_splits=5)\n",
    "stratified_scores = cross_val_score(svm_model, X, y, cv=stratified_k_fold)\n"
   ]
  },
  {
   "cell_type": "code",
   "execution_count": 26,
   "id": "7f192a1b",
   "metadata": {},
   "outputs": [],
   "source": [
    "knn_avg_accuracy = k_fold_scores.mean()\n",
    "svm_avg_accuracy = stratified_scores.mean()"
   ]
  },
  {
   "cell_type": "code",
   "execution_count": 27,
   "id": "8658c030",
   "metadata": {},
   "outputs": [
    {
     "name": "stdout",
     "output_type": "stream",
     "text": [
      "kNN Average Accuracy: 0.8013684012303056\n",
      "SVM Average Accuracy: 0.827154604230745\n"
     ]
    }
   ],
   "source": [
    "print(\"kNN Average Accuracy:\", knn_avg_accuracy)\n",
    "print(\"SVM Average Accuracy:\", svm_avg_accuracy)"
   ]
  }
 ],
 "metadata": {
  "kernelspec": {
   "display_name": "Python 3 (ipykernel)",
   "language": "python",
   "name": "python3"
  },
  "language_info": {
   "codemirror_mode": {
    "name": "ipython",
    "version": 3
   },
   "file_extension": ".py",
   "mimetype": "text/x-python",
   "name": "python",
   "nbconvert_exporter": "python",
   "pygments_lexer": "ipython3",
   "version": "3.10.9"
  }
 },
 "nbformat": 4,
 "nbformat_minor": 5
}
