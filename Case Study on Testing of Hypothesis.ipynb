{
 "cells": [
  {
   "cell_type": "code",
   "execution_count": 1,
   "id": "5d7bfad1",
   "metadata": {},
   "outputs": [],
   "source": [
    "import pandas as pd"
   ]
  },
  {
   "cell_type": "code",
   "execution_count": 21,
   "id": "2979ab78",
   "metadata": {},
   "outputs": [],
   "source": [
    "data = pd.read_csv(\"https://raw.githubusercontent.com/LabeebVK/Python_ICTAK/main/Sales_add.csv\")"
   ]
  },
  {
   "cell_type": "markdown",
   "id": "c56ba303",
   "metadata": {},
   "source": [
    "1. Testing the Hypothesis: Increase in Sales after Digital Marketing"
   ]
  },
  {
   "cell_type": "code",
   "execution_count": 19,
   "id": "c47f6936",
   "metadata": {},
   "outputs": [
    {
     "name": "stdout",
     "output_type": "stream",
     "text": [
      "Paired t-test results:\n",
      "t-statistic: -12.09070525287017\n",
      "p-value: 6.336667004575778e-11\n"
     ]
    }
   ],
   "source": [
    "from scipy.stats import ttest_rel\n",
    "\n",
    "# Separate sales data before and after digital marketing\n",
    "sales_before = data['Sales_before_digital_add(in $)']\n",
    "sales_after = data['Sales_After_digital_add(in $)']\n",
    "\n",
    "# Perform a paired t-test\n",
    "t_statistic, p_value = ttest_rel(sales_before, sales_after)\n",
    "\n",
    "# Print the t-statistic and p-value\n",
    "print(\"Paired t-test results:\")\n",
    "print(\"t-statistic:\", t_statistic)\n",
    "print(\"p-value:\", p_value)"
   ]
  },
  {
   "cell_type": "code",
   "execution_count": null,
   "id": "441332ef",
   "metadata": {},
   "outputs": [],
   "source": [
    "Based on result we can conclude,\n",
    "There is a significant increase in sales after implementing digital marketing."
   ]
  },
  {
   "cell_type": "raw",
   "id": "e286b95f",
   "metadata": {},
   "source": [
    "2. Testing the Hypothesis: Dependency between \"Region\" and \"Manager\""
   ]
  },
  {
   "cell_type": "code",
   "execution_count": 20,
   "id": "96caddab",
   "metadata": {},
   "outputs": [
    {
     "name": "stdout",
     "output_type": "stream",
     "text": [
      "Chi-square test of independence results:\n",
      "Chi-square statistic: 3.050566893424036\n",
      "p-value: 0.5493991051158094\n"
     ]
    }
   ],
   "source": [
    "from scipy.stats import chi2_contingency\n",
    "\n",
    "# Create a contingency table of Region and Manager\n",
    "contingency_table = pd.crosstab(data['Region'], data['Manager'])\n",
    "\n",
    "# Perform chi-square test of independence\n",
    "chi2_statistic, p_value, _, _ = chi2_contingency(contingency_table)\n",
    "\n",
    "# Print the chi-square statistic and p-value\n",
    "print(\"Chi-square test of independence results:\")\n",
    "print(\"Chi-square statistic:\", chi2_statistic)\n",
    "print(\"p-value:\", p_value)"
   ]
  },
  {
   "cell_type": "code",
   "execution_count": null,
   "id": "80928c79",
   "metadata": {},
   "outputs": [],
   "source": []
  }
 ],
 "metadata": {
  "kernelspec": {
   "display_name": "Python 3 (ipykernel)",
   "language": "python",
   "name": "python3"
  },
  "language_info": {
   "codemirror_mode": {
    "name": "ipython",
    "version": 3
   },
   "file_extension": ".py",
   "mimetype": "text/x-python",
   "name": "python",
   "nbconvert_exporter": "python",
   "pygments_lexer": "ipython3",
   "version": "3.10.9"
  }
 },
 "nbformat": 4,
 "nbformat_minor": 5
}
